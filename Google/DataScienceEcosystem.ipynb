{
 "cells": [
  {
   "cell_type": "markdown",
   "id": "66ce6f28-0508-4fc4-83e3-630453875790",
   "metadata": {
    "tags": []
   },
   "source": [
    "\n",
    "Create a markdown cell with the title of the notebook. (1 pt)"
   ]
  },
  {
   "cell_type": "markdown",
   "id": "7a0de68e-45ae-4b14-918a-99edea59fd0b",
   "metadata": {},
   "source": [
    "# Data Science Notebook\n"
   ]
  },
  {
   "cell_type": "code",
   "execution_count": null,
   "id": "9f0784f8-8199-48c5-8b93-7d6bb87af6d8",
   "metadata": {},
   "outputs": [],
   "source": []
  },
  {
   "cell_type": "markdown",
   "id": "1b52c8d0-af98-425d-8357-dd1cdd1ae87e",
   "metadata": {},
   "source": [
    " Create a markdown cell for an introduction. (1 pt)"
   ]
  },
  {
   "cell_type": "markdown",
   "id": "a2160de6-5d66-44af-9e5b-4cdcaf38e0e1",
   "metadata": {},
   "source": [
    "## Introduction\n",
    "Welcome to this data science notebook! In this notebook, we will explore various concepts and tools used in the field of data science.\n"
   ]
  },
  {
   "cell_type": "code",
   "execution_count": null,
   "id": "f8d6e625-b135-4e8f-8c67-9ebfc9bbd2cf",
   "metadata": {},
   "outputs": [],
   "source": []
  },
  {
   "cell_type": "markdown",
   "id": "eb7f61cd-4283-4e6d-8596-17e1f5268b8b",
   "metadata": {},
   "source": [
    " Create a markdown cell to list data science languages. (3 pts)"
   ]
  },
  {
   "cell_type": "markdown",
   "id": "b19cf9f9-358f-450d-b30b-54b2f52b0ad4",
   "metadata": {},
   "source": [
    "## Data Science Languages\n",
    "- Python\n",
    "- R\n",
    "- SQL\n",
    "- Julia\n"
   ]
  },
  {
   "cell_type": "code",
   "execution_count": null,
   "id": "6ace258b-2393-41fa-a05b-d54bfeb457a6",
   "metadata": {},
   "outputs": [],
   "source": []
  },
  {
   "cell_type": "markdown",
   "id": "039081b1-fb7c-4927-b28c-bc6eb3046435",
   "metadata": {},
   "source": [
    "Create a markdown cell to list data science libraries. (3 pts)"
   ]
  },
  {
   "cell_type": "markdown",
   "id": "cdb79b77-7ba6-42d7-9874-0cadd979126a",
   "metadata": {},
   "source": [
    "## Data Science Libraries\n",
    "- Pandas\n",
    "- NumPy\n",
    "- Matplotlib\n",
    "- Scikit-learn\n",
    "- TensorFlow\n",
    "- PyTorch\n"
   ]
  },
  {
   "cell_type": "code",
   "execution_count": null,
   "id": "a25de307-f2af-4c4a-a7bf-cf82d2f8fa4e",
   "metadata": {},
   "outputs": [],
   "source": [
    "\n"
   ]
  },
  {
   "cell_type": "markdown",
   "id": "607d39e9-9071-4b55-b3a4-1dd5b2c68264",
   "metadata": {},
   "source": [
    "Create a markdown cell with a table of Data Science tools. (3 pts)"
   ]
  },
  {
   "cell_type": "markdown",
   "id": "843a0cf2-cdf1-43e2-9f84-8a57182e6301",
   "metadata": {},
   "source": [
    "## Data Science Tools\n",
    "\n",
    "| Tool         | Description                                      |\n",
    "|--------------|--------------------------------------------------|\n",
    "| Jupyter      | Interactive computing environment                 |\n",
    "| RStudio      | Integrated development environment for R         |\n",
    "| GitHub       | Version control platform                         |\n",
    "| Tableau      | Data visualization software                       |\n",
    "| Apache Spark | Distributed computing system                     |\n",
    "| SQL          | Database querying language                       |\n"
   ]
  },
  {
   "cell_type": "code",
   "execution_count": null,
   "id": "ba7b3b7f-63bc-4464-abd2-245bfa4aea1b",
   "metadata": {},
   "outputs": [],
   "source": []
  },
  {
   "cell_type": "markdown",
   "id": "0daff9a1-470a-418d-9e15-08cfc9758b72",
   "metadata": {},
   "source": [
    " Create a markdown cell introducing arithmetic expression examples. (1 pt)"
   ]
  },
  {
   "cell_type": "code",
   "execution_count": null,
   "id": "69f64bcb-5bf9-471d-b935-6e764a0a7112",
   "metadata": {},
   "outputs": [],
   "source": []
  },
  {
   "cell_type": "markdown",
   "id": "9c3345ca-db7c-414a-aa43-271738a1028d",
   "metadata": {},
   "source": [
    "## Arithmetic Expression Examples\n",
    "Let's explore some basic arithmetic operations using Python.\n"
   ]
  },
  {
   "cell_type": "code",
   "execution_count": null,
   "id": "2a983858-996d-445e-b9e4-2ef0b7702078",
   "metadata": {},
   "outputs": [],
   "source": []
  },
  {
   "cell_type": "markdown",
   "id": "1d886129-76bd-4fd5-8c67-e96fb99606d7",
   "metadata": {},
   "source": [
    "Create a code cell to multiply and add numbers. (2 pts)"
   ]
  },
  {
   "cell_type": "code",
   "execution_count": null,
   "id": "1af77123-88d3-4328-b609-e58e9fa08939",
   "metadata": {},
   "outputs": [],
   "source": []
  },
  {
   "cell_type": "code",
   "execution_count": 1,
   "id": "c196bf92-3233-481c-b980-f88a50049db3",
   "metadata": {},
   "outputs": [
    {
     "name": "stdout",
     "output_type": "stream",
     "text": [
      "Product: 50\n",
      "Sum: 15\n"
     ]
    }
   ],
   "source": [
    "# Multiply and Add Numbers\n",
    "x = 5\n",
    "y = 10\n",
    "\n",
    "# Multiplication\n",
    "product = x * y\n",
    "print(\"Product:\", product)\n",
    "\n",
    "# Addition\n",
    "sum = x + y\n",
    "print(\"Sum:\", sum)\n"
   ]
  },
  {
   "cell_type": "code",
   "execution_count": null,
   "id": "66003625-8117-4f7e-ba8c-26132dce846d",
   "metadata": {},
   "outputs": [],
   "source": []
  },
  {
   "cell_type": "markdown",
   "id": "df74b78b-507c-4cfc-8f0c-c57e69e839ab",
   "metadata": {},
   "source": [
    "Create a code cell to convert minutes to hours. (2 pts)"
   ]
  },
  {
   "cell_type": "code",
   "execution_count": null,
   "id": "333137bd-814d-499a-a7ef-fddeb8a753dc",
   "metadata": {},
   "outputs": [],
   "source": []
  },
  {
   "cell_type": "code",
   "execution_count": 2,
   "id": "51a35f6b-a04f-45ea-b139-9661ae5ae00b",
   "metadata": {},
   "outputs": [
    {
     "name": "stdout",
     "output_type": "stream",
     "text": [
      "Hours: 2.0\n"
     ]
    }
   ],
   "source": [
    "# Convert Minutes to Hours\n",
    "minutes = 120\n",
    "\n",
    "# Conversion\n",
    "hours = minutes / 60\n",
    "print(\"Hours:\", hours)\n"
   ]
  },
  {
   "cell_type": "code",
   "execution_count": null,
   "id": "8a131da1-66e0-401e-8a24-67f2f3af8729",
   "metadata": {},
   "outputs": [],
   "source": []
  },
  {
   "cell_type": "markdown",
   "id": "49861dd9-73d2-4ee2-9348-0460e951ce6c",
   "metadata": {},
   "source": [
    " Insert a markdown cell to list Objectives. (3 pts)"
   ]
  },
  {
   "cell_type": "code",
   "execution_count": null,
   "id": "46d3e472-4024-4f1d-9796-c0c680acb4ee",
   "metadata": {},
   "outputs": [],
   "source": []
  },
  {
   "cell_type": "markdown",
   "id": "d4c28d56-9892-4453-aa73-970f2b7457f3",
   "metadata": {},
   "source": [
    "## Objectives\n",
    "- Introduce data science languages and libraries\n",
    "- Explore basic arithmetic operations in Python\n",
    "- Demonstrate conversion between different units of time\n"
   ]
  },
  {
   "cell_type": "code",
   "execution_count": null,
   "id": "de0d4e22-289a-4a30-bdcd-4985f8b095df",
   "metadata": {},
   "outputs": [],
   "source": []
  },
  {
   "cell_type": "markdown",
   "id": "40ba756b-7256-43ff-816a-2b6032a68a06",
   "metadata": {},
   "source": [
    "Create a markdown cell to indicate the Author’s name. (2 pts)"
   ]
  },
  {
   "cell_type": "code",
   "execution_count": null,
   "id": "949d7e33-bd1b-4984-bae0-c40dd2022fd2",
   "metadata": {},
   "outputs": [],
   "source": []
  },
  {
   "cell_type": "markdown",
   "id": "c517ec60-4462-479a-82f5-4f537b83f83b",
   "metadata": {},
   "source": [
    "## Author\n",
    "- John Doe\n"
   ]
  },
  {
   "cell_type": "code",
   "execution_count": null,
   "id": "a9e3b6af-42f5-4a32-aa17-cb1f45898434",
   "metadata": {},
   "outputs": [],
   "source": []
  },
  {
   "cell_type": "code",
   "execution_count": null,
   "id": "8f4d8b41-df70-49e8-9915-4b8900eefdf1",
   "metadata": {},
   "outputs": [],
   "source": []
  }
 ],
 "metadata": {
  "kernelspec": {
   "display_name": "Python 3 (ipykernel)",
   "language": "python",
   "name": "python3"
  },
  "language_info": {
   "codemirror_mode": {
    "name": "ipython",
    "version": 3
   },
   "file_extension": ".py",
   "mimetype": "text/x-python",
   "name": "python",
   "nbconvert_exporter": "python",
   "pygments_lexer": "ipython3",
   "version": "3.10.8"
  }
 },
 "nbformat": 4,
 "nbformat_minor": 5
}
