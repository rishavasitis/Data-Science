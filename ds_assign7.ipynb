{
 "cells": [
  {
   "cell_type": "code",
   "execution_count": null,
   "id": "82cbff41-0935-4e76-b438-fcee8eba73e8",
   "metadata": {},
   "outputs": [],
   "source": [
    "Data Pipelining:\n",
    "1. Q: What is the importance of a well-designed data pipeline in machine learning projects?\n",
    "   \n",
    "\n",
    "Training and Validation:\n",
    "2. Q: What are the key steps involved in training and validating machine learning models?\n",
    "\n",
    "Deployment:\n",
    "3. Q: How do you ensure seamless deployment of machine learning models in a product environment?\n",
    "   \n",
    "\n",
    "Infrastructure Design:\n",
    "4. Q: What factors should be considered when designing the infrastructure for machine learning projects?\n",
    "   \n",
    "\n",
    "Team Building:\n",
    "5. Q: What are the key roles and skills required in a machine learning team?\n",
    "   \n",
    "\n",
    "Cost Optimization:\n",
    "6. Q: How can cost optimization be achieved in machine learning projects?\n",
    "\n",
    "7. Q: How do you balance cost optimization and model performance in machine learning projects?\n",
    "\n",
    "Data Pipelining:\n",
    "8. Q: How would you handle real-time streaming data in a data pipeline for machine learning?\n",
    "   \n",
    "\n",
    "9. Q: What are the challenges involved in integrating data from multiple sources in a data pipeline, and how would you address them?\n",
    "\n",
    "Training and Validation:\n",
    "10. Q: How do you ensure the generalization ability of a trained machine learning model?\n",
    "\n",
    "11. Q: How do you handle imbalanced datasets during model training and validation?\n",
    "\n",
    "Deployment:\n",
    "12. Q: How do you ensure the reliability and scalability of deployed machine learning models?\n"
   ]
  }
 ],
 "metadata": {
  "kernelspec": {
   "display_name": "Python 3 (ipykernel)",
   "language": "python",
   "name": "python3"
  },
  "language_info": {
   "codemirror_mode": {
    "name": "ipython",
    "version": 3
   },
   "file_extension": ".py",
   "mimetype": "text/x-python",
   "name": "python",
   "nbconvert_exporter": "python",
   "pygments_lexer": "ipython3",
   "version": "3.10.8"
  }
 },
 "nbformat": 4,
 "nbformat_minor": 5
}
